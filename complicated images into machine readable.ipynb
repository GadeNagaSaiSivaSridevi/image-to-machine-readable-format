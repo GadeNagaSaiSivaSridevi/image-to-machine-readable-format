{
 "cells": [
  {
   "cell_type": "markdown",
   "id": "ed170755",
   "metadata": {},
   "source": [
    "# converting complicated images into machine readable format"
   ]
  },
  {
   "cell_type": "code",
   "execution_count": null,
   "id": "ffa754ae",
   "metadata": {},
   "outputs": [],
   "source": [
    "# There are five types of Machine learning models available for text extraction from image .\n",
    "# Region based method, Texure based method, Hybrid technique, Edge based method,Morphological based method."
   ]
  },
  {
   "cell_type": "code",
   "execution_count": null,
   "id": "92b6e329",
   "metadata": {},
   "outputs": [],
   "source": []
  },
  {
   "cell_type": "code",
   "execution_count": 1,
   "id": "37f06f82",
   "metadata": {},
   "outputs": [],
   "source": [
    "import cv2\n",
    "import pytesseract"
   ]
  },
  {
   "cell_type": "code",
   "execution_count": 2,
   "id": "8e4a33b4",
   "metadata": {},
   "outputs": [],
   "source": [
    "#img = cv2.imread('C:\\\\Users\\\\vgarlapati\\\\Downloads\\\\R.jfif')\n",
    "img = cv2.imread('C:\\\\Users\\\\vgarlapati\\\\OneDrive - Prolifics Corporation Ltd.,\\\\Pictures\\\\Screenshots\\\\Screenshot.png')"
   ]
  },
  {
   "cell_type": "code",
   "execution_count": 3,
   "id": "5ffc8a29",
   "metadata": {},
   "outputs": [],
   "source": [
    "gray = cv2.cvtColor(img, cv2.COLOR_BGR2GRAY)"
   ]
  },
  {
   "cell_type": "code",
   "execution_count": 4,
   "id": "4f111cc6",
   "metadata": {},
   "outputs": [
    {
     "data": {
      "text/plain": [
       "True"
      ]
     },
     "execution_count": 4,
     "metadata": {},
     "output_type": "execute_result"
    }
   ],
   "source": [
    "cv2.imwrite(\"gray.png\",gray)"
   ]
  },
  {
   "cell_type": "code",
   "execution_count": 5,
   "id": "2c94c4a9",
   "metadata": {},
   "outputs": [],
   "source": [
    "blur=cv2.GaussianBlur(gray,(7,7),0)"
   ]
  },
  {
   "cell_type": "code",
   "execution_count": 6,
   "id": "bf09e01d",
   "metadata": {},
   "outputs": [
    {
     "data": {
      "text/plain": [
       "True"
      ]
     },
     "execution_count": 6,
     "metadata": {},
     "output_type": "execute_result"
    }
   ],
   "source": [
    "cv2.imwrite(\"blur.png\",blur)"
   ]
  },
  {
   "cell_type": "code",
   "execution_count": 7,
   "id": "364aee89",
   "metadata": {},
   "outputs": [],
   "source": [
    "thresh = cv2.threshold(blur, 0, 255, cv2.THRESH_BINARY_INV+cv2.THRESH_OTSU)[1]\n",
    "# converting image in to binary image enhance chance of text extraction. "
   ]
  },
  {
   "cell_type": "code",
   "execution_count": 8,
   "id": "058e8abf",
   "metadata": {},
   "outputs": [
    {
     "data": {
      "text/plain": [
       "True"
      ]
     },
     "execution_count": 8,
     "metadata": {},
     "output_type": "execute_result"
    }
   ],
   "source": [
    "cv2.imwrite(\"thresh.png\",thresh)"
   ]
  },
  {
   "cell_type": "code",
   "execution_count": 9,
   "id": "2610daea",
   "metadata": {},
   "outputs": [],
   "source": [
    "kernel = cv2.getStructuringElement(cv2.MORPH_RECT, (35,25))\n",
    "# structure element method in OpenCV with the kernel size depending upon the area of the text.\n"
   ]
  },
  {
   "cell_type": "code",
   "execution_count": 10,
   "id": "043a1df1",
   "metadata": {},
   "outputs": [
    {
     "data": {
      "text/plain": [
       "True"
      ]
     },
     "execution_count": 10,
     "metadata": {},
     "output_type": "execute_result"
    }
   ],
   "source": [
    "cv2.imwrite(\"kernel.png\",kernel)"
   ]
  },
  {
   "cell_type": "code",
   "execution_count": 10,
   "id": "7cb3ae79",
   "metadata": {},
   "outputs": [
    {
     "data": {
      "text/plain": [
       "True"
      ]
     },
     "execution_count": 10,
     "metadata": {},
     "output_type": "execute_result"
    }
   ],
   "source": [
    "dilate = cv2.dilate(thresh,kernel, iterations =3)\n",
    "cv2.imwrite('dilate.jpg',dilate)\n",
    "#  dilation method on the binary image to get the boundaries of the text.\n",
    "# morphological operations-Erosion, Dilation,Opening, closing , Morphological gradient, Black hat, Top hat."
   ]
  },
  {
   "cell_type": "code",
   "execution_count": 11,
   "id": "ee074f70",
   "metadata": {},
   "outputs": [],
   "source": [
    "cnts = cv2.findContours(dilate, cv2.RETR_EXTERNAL,cv2.CHAIN_APPROX_SIMPLE)\n",
    "# finding the contours in binary image, contour method to get the area of the white pixels"
   ]
  },
  {
   "cell_type": "code",
   "execution_count": 12,
   "id": "a0deb00b",
   "metadata": {},
   "outputs": [],
   "source": [
    "cnts= cnts[0] if len(cnts)==2 else cnts[1]"
   ]
  },
  {
   "cell_type": "code",
   "execution_count": 13,
   "id": "9d4a8ea3",
   "metadata": {},
   "outputs": [],
   "source": [
    "cnts=sorted(cnts, key=lambda x: cv2.boundingRect(x)[0])\n"
   ]
  },
  {
   "cell_type": "code",
   "execution_count": 14,
   "id": "7d00f68e",
   "metadata": {},
   "outputs": [
    {
     "name": "stdout",
     "output_type": "stream",
     "text": [
      "agnostic accuracy of dermoscopy”. The Lancet Oncol-\n",
      "ogy. vol. 3, no. 3, pp. 159-165. 2002.\n",
      "\n",
      "(61 “Pattern analysis, not simplified algo-\n",
      "\n",
      "  \n",
      "\n",
      "moscopy for melanoma di\n",
      "148, no. 5, pp. 981-4. 2003.\n",
      "\n",
      "[7] Vestergaard, M.E., M il, P, Holt, PE., et al: “Der-\n",
      "\n",
      " \n",
      "\n",
      "(8] et al.: “Dermoscopy of pigmented skin le-\n",
      "sions: Results of a consensus meeting via the Internet” J.\n",
      "American Academy of Dermatology. vol. 48, no. 5, 2003.\n",
      "\n",
      "[9] Gachon, J,, et. al.:\"First Prospective Study of the Recog-\n",
      "nition Process of Melanoma in Dermatological Practice”.\n",
      "Arch Dermatol. vol. 141, no. 4, pp. 434-438, 2005.\n",
      "\n",
      "[10] Kimball, A.B., Resneck, J.S. Ir.: “The US dermatology\n",
      "workforce: a specialty remains in shortage.” J Am Acad\n",
      "Dermatol. vol. 59, no. 5, pp. 741-5. 2008.\n",
      "\n",
      "[11] Mishra, N.K., Celebi, ME: “An Overview of\n",
      "Melanoma Detection in Dermoscopy Images Using\n",
      "Image Processing and Machine Learning” arxiv.org:\n",
      "1601.07843. Available: http://arxiv.org/abs/1601.07843\n",
      "\n",
      "[12] Ali, A.A., Deserno, T.M.: “A Systematic Review of\n",
      "Automated Melanoma Detection in Dermatoscopic Im-\n",
      "ages and its Ground Truth Data” Proc. of SPIE Vol. 8318\n",
      "8318111\n",
      "\n",
      "[13] Codella NCR, Nguyen B, Pankanti S, Gutman D, Helba\n",
      "B, Halpern A, Smith JR. “Deep learning ensembles for\n",
      "melanoma recognition in dermoscopy images” IBM Jour-\n",
      "nal of Research and Development, vol. 61, no. 4/5, 2017.\n",
      "Available: https://arxiv.org/pdf/1610.04662.pdf\n",
      "\n",
      "[14] Barata, C., Ruela, M., et al.: “Two Systems for the De-\n",
      "tection of Melanomas in Dermoscopy Images using Tex-\n",
      "ture and Color Features”. IEEE Systems Journal, vol. 8,\n",
      "no. 3, pp. 965-979, 2014.\n",
      "\n",
      "[15] Mendonca, T., Ferreira, PM., Marques, J.S., Mare:\n",
      "AR., Rozeira, J.: “PH2 - a dermoscopic image database\n",
      "for research and benchmarking”. Conf Proc IEEE Eng\n",
      "Med Biol Soc. pp. 5437-40, 2013.\n",
      "\n",
      "[16] Gutman D, Codella N, Celebi E, Helba B, Marchetti\n",
      "\n",
      " \n",
      "\n",
      " \n",
      "\n",
      "  \n",
      "\n",
      "   \n",
      "\n",
      " \n",
      "\n",
      " \n",
      "\n",
      "     \n",
      "\n",
      " \n",
      "\n",
      "TT as co LO NO\n",
      "\n",
      " \n",
      "\n",
      "nal of the American Academy of Dermatology, 2017\n",
      "Press.\n",
      "\n",
      "[18] Braun, R-P., Rabinovitz, H.S., Oliviero, M., Kopf, A.\n",
      "‘Saurat, J.H.:“Dermoscopy of pigmented skin lesions.\n",
      "Am Acad Dermatol. vol. 52, no. 1, pp. 109-21. 2005.\n",
      "\n",
      "[19] Rezze, G.G., Soares de S, B.C., Neves, RL: “L\n",
      "‘moscopy: the pattern analysis”. An Bras Dermatol...\n",
      "3, pp. 261-8. 2006.\n",
      "\n",
      "[20] Achanta, R., Shaji, A., Smith, K., Lucchi, A., Fua,\n",
      "and SusstrunS.: “SLIC Superpixels”, EPFL Techn\n",
      "Report 149300, June 2010.\n",
      "\n",
      "[21] Yuan Y, Chao M, Lo YC. “Automatic skin les\n",
      "segmentation with fully convolutional-deconvolutic\n",
      "networks”. International Skin Imaging Collaborat\n",
      "(SIC) 2017 Challenge at the International S)\n",
      "posium on Biomedical Imaging (ISBN). Availal\n",
      "https://arxiv.org/pdi/1703.05 165.pdf\n",
      "\n",
      "(22] Kawahara J, Hamameh G. “Fully Convolutional N\n",
      "works to Detect Clinical Dermoscopic Features”. Inter\n",
      "tional Skin Imaging Collaboration (ISIC) 2017 Challe\n",
      "at the International Symposium on Biomedical Imag\n",
      "(ISBN). Available: https://arxiv.org/abs/1703.04559\n",
      "\n",
      "[23] Li, Shen L. “Skin Lesion Analysis Towards Meland\n",
      "Detection Using Deep Learning Network”. Internatic\n",
      "Skin Imaging Collaboration (ISIC) 2017 Challenge at\n",
      "International Symposium on Biomedical Imaging (ISI\n",
      "Available: https://arxiv.org/abs/1703.00577\n",
      "\n",
      "(24] Matsunaga K, Hamada A, Minagawa A, Koga H.\n",
      "age Classification of Melanoma, Nevus and Seborrt\n",
      "Keratosis by Deep Neural Network Ensemble”. Inter\n",
      "tional Skin Imaging Collaboration (ISIC) 2017 Challe:\n",
      "at the International Symposium on Biomedical Imag\n",
      "(ISBN). Available: https://arxiv.org/abs/1703.03108\n",
      "\n",
      "[25] Daz IG. “Incorporating the Knowledge of Dermat:\n",
      "gists to Convolutional Neural Networks for the Diag\n",
      "sis of Skin Lesions”. International Skin Imaging C\n",
      "laboration (ISIC) 2017 Challenge at the Internatic\n",
      "Symposium on Biomedical Imaging (ISB. Availal\n",
      "https://arxiv.org/abs/1703.01976\n",
      "\n",
      "[26] Menegola A, Tavares J, Fornaciali M, Li\n",
      "Avila S, Valle E. “RECOD Titans at ISIC Cl\n",
      "lenge 2017”. International Skin Imaging Collab«\n",
      "tion (ISIC) 2017 Challenge at the International S}\n",
      "posium on Biomedical Imagine (ISBI). Availal\n",
      "\n",
      " \n",
      "\n",
      " \n",
      "\n",
      " \n",
      "\n",
      " \n",
      "\n",
      " \n",
      "\n",
      " \n",
      "\n",
      " \n",
      "\n",
      " \n",
      "\n",
      " \n",
      "\n",
      " \n",
      "\n",
      " \n",
      "\f",
      "\n"
     ]
    }
   ],
   "source": [
    "for c in cnts:\n",
    "    x, y, w, h= cv2.boundingRect(c)\n",
    "    if h>20 and w>20:\n",
    "        cropped = img[y:y + h, x:x + w] # Crop the bounding box area\n",
    "        # cv2.imwrite('cropped.jpg',cropped)\n",
    "        ocr_result=pytesseract.image_to_string(cropped)\n",
    "        print(ocr_result)\n",
    "        cv2.rectangle(img,(x,y),(x + w, y + h),(36,255,12),2)\n",
    "        cv2.imwrite(\"bbox.png\",img)\n",
    "# converting images into machine readable format"
   ]
  },
  {
   "cell_type": "code",
   "execution_count": null,
   "id": "fd7cee16",
   "metadata": {},
   "outputs": [],
   "source": []
  },
  {
   "cell_type": "code",
   "execution_count": null,
   "id": "f9bff7d0",
   "metadata": {},
   "outputs": [],
   "source": []
  }
 ],
 "metadata": {
  "kernelspec": {
   "display_name": "Python 3 (ipykernel)",
   "language": "python",
   "name": "python3"
  },
  "language_info": {
   "codemirror_mode": {
    "name": "ipython",
    "version": 3
   },
   "file_extension": ".py",
   "mimetype": "text/x-python",
   "name": "python",
   "nbconvert_exporter": "python",
   "pygments_lexer": "ipython3",
   "version": "3.9.7"
  }
 },
 "nbformat": 4,
 "nbformat_minor": 5
}
